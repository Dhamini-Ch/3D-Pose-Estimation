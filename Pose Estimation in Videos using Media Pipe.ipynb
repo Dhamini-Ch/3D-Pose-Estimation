{
 "cells": [
  {
   "cell_type": "code",
   "execution_count": 10,
   "id": "18980c80",
   "metadata": {},
   "outputs": [],
   "source": [
    "import cv2 \n",
    "import mediapipe as mp\n",
    "import numpy as np"
   ]
  },
  {
   "cell_type": "code",
   "execution_count": 19,
   "id": "80a95dd6",
   "metadata": {},
   "outputs": [],
   "source": [
    "mp_pose = mp.solutions.pose\n",
    "mp_draw = mp.solutions.drawing_utils\n",
    "pose = mp_pose.Pose()\n",
    "\n",
    "cap = cv2.VideoCapture(\"C:\\\\Users\\\\mr\\\\Downloads\\\\video1.0.mp4\")\n",
    "# cap = cv2.VideoCapture(0)\n",
    "\n",
    "while True:\n",
    "    ret, img = cap.read()\n",
    "    \n",
    "    cv2.imshow('Original Video', img)\n",
    "\n",
    "    key = cv2.waitKey(1)\n",
    "    if key==27:\n",
    "        break\n",
    "    \n",
    "    img = cv2.resize(img, (600, 600))\n",
    "\n",
    "    results = pose.process(img)\n",
    "    \n",
    "    mp_draw.draw_landmarks(img, results.pose_landmarks, mp_pose.POSE_CONNECTIONS,\n",
    "                            mp_draw.DrawingSpec((255, 0, 0), 2, 2),     #dot\n",
    "                            mp_draw.DrawingSpec((255, 0, 255), 2, 2)    #line  \n",
    "                            )\n",
    "\n",
    "#     cv2.imshow(\"video\", img[1])\n",
    "\n",
    "    h, w, c = img.shape  \n",
    "    opImg = np.zeros([h, w, c])\n",
    "    opImg.fill(255) \n",
    "\n",
    "    mp_draw.draw_landmarks(opImg, results.pose_landmarks, mp_pose.POSE_CONNECTIONS,\n",
    "                            mp_draw.DrawingSpec((255, 0, 0), 2, 2),\n",
    "                            mp_draw.DrawingSpec((255, 0, 255), 2, 2))\n",
    "                            \n",
    "    cv2.imshow(\"Extracted Pose \", opImg)\n",
    "\n",
    "    # # print all landmarks\n",
    "    # print(results.pose_landmarks)\n",
    "\n",
    "    cv2.waitKey(1)"
   ]
  }
 ],
 "metadata": {
  "kernelspec": {
   "display_name": "Python 3",
   "language": "python",
   "name": "python3"
  },
  "language_info": {
   "codemirror_mode": {
    "name": "ipython",
    "version": 3
   },
   "file_extension": ".py",
   "mimetype": "text/x-python",
   "name": "python",
   "nbconvert_exporter": "python",
   "pygments_lexer": "ipython3",
   "version": "3.8.8"
  }
 },
 "nbformat": 4,
 "nbformat_minor": 5
}
