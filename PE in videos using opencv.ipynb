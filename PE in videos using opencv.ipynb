{
 "cells": [
  {
   "cell_type": "code",
   "execution_count": 13,
   "id": "d267fd94",
   "metadata": {},
   "outputs": [
    {
     "name": "stdout",
     "output_type": "stream",
     "text": [
      "\n"
     ]
    }
   ],
   "source": [
    "print(\"\")from cvzone.PoseModule import PoseDetector"
   ]
  },
  {
   "cell_type": "code",
   "execution_count": 21,
   "id": "a5c390bc",
   "metadata": {},
   "outputs": [
    {
     "name": "stdout",
     "output_type": "stream",
     "text": [
      "\n"
     ]
    }
   ],
   "source": [
    "import cv2 \n",
    "import numpy as np\n",
    "\n",
    "cap = cv2.VideoCapture(\"C:\\\\Users\\\\mr\\\\Downloads\\\\video1.0.mp4\")\n",
    "pd = PoseDetector()\n",
    "\n",
    "while True:\n",
    "    ret, img = cap.read()\n",
    "    img = pd.findPose(img)\n",
    "    \n",
    "    cv2.imshow('frame', img)\n",
    "    key = cv2.waitKey(1)\n",
    "    if key==27:\n",
    "        break"
   ]
  }
 ],
 "metadata": {
  "kernelspec": {
   "display_name": "Python 3",
   "language": "python",
   "name": "python3"
  },
  "language_info": {
   "codemirror_mode": {
    "name": "ipython",
    "version": 3
   },
   "file_extension": ".py",
   "mimetype": "text/x-python",
   "name": "python",
   "nbconvert_exporter": "python",
   "pygments_lexer": "ipython3",
   "version": "3.8.8"
  }
 },
 "nbformat": 4,
 "nbformat_minor": 5
}
